{
 "cells": [
  {
   "cell_type": "code",
   "execution_count": 1,
   "metadata": {},
   "outputs": [],
   "source": [
    "%load_ext autoreload\n",
    "%autoreload 2"
   ]
  },
  {
   "cell_type": "code",
   "execution_count": 2,
   "metadata": {},
   "outputs": [
    {
     "name": "stderr",
     "output_type": "stream",
     "text": [
      "/Users/richardweiss/Documents/.venvs/dice_rl_TU_Vienna/lib/python3.11/site-packages/tensorflow_probability/python/__init__.py:57: DeprecationWarning: distutils Version classes are deprecated. Use packaging.version instead.\n",
      "  if (distutils.version.LooseVersion(tf.__version__) <\n",
      "/Users/richardweiss/Documents/.venvs/dice_rl_TU_Vienna/lib/python3.11/site-packages/tf_agents/__init__.py:58: DeprecationWarning: distutils Version classes are deprecated. Use packaging.version instead.\n",
      "  if distutils.version.LooseVersion(\n",
      "/Users/richardweiss/Documents/.venvs/dice_rl_TU_Vienna/lib/python3.11/site-packages/tf_agents/utils/common.py:91: DeprecationWarning: distutils Version classes are deprecated. Use packaging.version instead.\n",
      "  distutils.version.LooseVersion(tf.__version__)\n"
     ]
    }
   ],
   "source": [
    "from dice_rl_plugins.applications.boyan_chain.analytical_solver import BoyanChainAnalyticalSolver"
   ]
  },
  {
   "cell_type": "code",
   "execution_count": 3,
   "metadata": {},
   "outputs": [],
   "source": [
    "def test(N, p, gamma):\n",
    "    kind = \"episodic\" if gamma < 1 else \"continuing\"\n",
    "\n",
    "    analytical_solver = BoyanChainAnalyticalSolver(N=N, p=p, kind=kind)\n",
    "\n",
    "    sdc, pv = analytical_solver.solve(gamma)\n",
    "\n",
    "    sd_d = analytical_solver.stationary_distribution_dataset\n",
    "    sd_p = sd_d * sdc\n",
    "\n",
    "    analytical_solver.test(gamma=gamma, sd=sd_p)"
   ]
  },
  {
   "cell_type": "code",
   "execution_count": 4,
   "metadata": {},
   "outputs": [
    {
     "name": "stdout",
     "output_type": "stream",
     "text": [
      "Checking backwards Bellman equations (gamma=0.1):\n",
      "-------------------------------------------------\n",
      "d^pi = (1 - gamma) * d_0^pi + gamma * P^pi_* d^pi\n",
      "-> MSE = 2.2424815307994407e-35\n",
      "d^pi >= 0\n",
      "-> True\n",
      "sum(d^pi) = 1\n",
      "-> sum = 1.0\n",
      "\n",
      "Checking backwards Bellman equations (gamma=0.5):\n",
      "-------------------------------------------------\n",
      "d^pi = (1 - gamma) * d_0^pi + gamma * P^pi_* d^pi\n",
      "-> MSE = 5.792836160852233e-35\n",
      "d^pi >= 0\n",
      "-> True\n",
      "sum(d^pi) = 1\n",
      "-> sum = 0.9999999999999999\n",
      "\n",
      "Checking backwards Bellman equations (gamma=0.9):\n",
      "-------------------------------------------------\n",
      "d^pi = (1 - gamma) * d_0^pi + gamma * P^pi_* d^pi\n",
      "-> MSE = 1.0886886141461801e-36\n",
      "d^pi >= 0\n",
      "-> True\n",
      "sum(d^pi) = 1\n",
      "-> sum = 0.9999999999999992\n",
      "\n"
     ]
    }
   ],
   "source": [
    "for gamma in [0.1, 0.5, 0.9]:\n",
    "    test(N=12, p=0.1, gamma=gamma)"
   ]
  },
  {
   "cell_type": "code",
   "execution_count": 5,
   "metadata": {},
   "outputs": [
    {
     "name": "stdout",
     "output_type": "stream",
     "text": [
      "Checking backwards Bellman equations (gamma=1.0):\n",
      "-------------------------------------------------\n",
      "d^pi = P^pi_* d^pi\n",
      "-> MSE = 1.3020064782163243e-33\n",
      "d^pi >= 0\n",
      "-> True\n",
      "sum(d^pi) = 1\n",
      "-> sum = 0.9999999999999999\n",
      "\n"
     ]
    }
   ],
   "source": [
    "test(N=12, p=0.1, gamma=1.0)"
   ]
  },
  {
   "cell_type": "code",
   "execution_count": null,
   "metadata": {},
   "outputs": [],
   "source": []
  }
 ],
 "metadata": {
  "kernelspec": {
   "display_name": "dice_rl_TU_Vienna",
   "language": "python",
   "name": "python3"
  },
  "language_info": {
   "codemirror_mode": {
    "name": "ipython",
    "version": 3
   },
   "file_extension": ".py",
   "mimetype": "text/x-python",
   "name": "python",
   "nbconvert_exporter": "python",
   "pygments_lexer": "ipython3",
   "version": "3.11.9"
  }
 },
 "nbformat": 4,
 "nbformat_minor": 2
}
