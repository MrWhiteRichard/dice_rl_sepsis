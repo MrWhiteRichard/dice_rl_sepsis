{
 "cells": [
  {
   "cell_type": "code",
   "execution_count": 1,
   "metadata": {},
   "outputs": [],
   "source": [
    "%load_ext autoreload\n",
    "%autoreload 2"
   ]
  },
  {
   "cell_type": "markdown",
   "metadata": {},
   "source": [
    "# `AnalyticalSolver`"
   ]
  },
  {
   "cell_type": "code",
   "execution_count": null,
   "metadata": {},
   "outputs": [
    {
     "name": "stderr",
     "output_type": "stream",
     "text": [
      "/Users/richardweiss/Documents/.venvs/dice_rl_TU_Vienna/lib/python3.11/site-packages/tensorflow_probability/python/__init__.py:57: DeprecationWarning: distutils Version classes are deprecated. Use packaging.version instead.\n",
      "  if (distutils.version.LooseVersion(tf.__version__) <\n",
      "/Users/richardweiss/Documents/.venvs/dice_rl_TU_Vienna/lib/python3.11/site-packages/tf_agents/__init__.py:58: DeprecationWarning: distutils Version classes are deprecated. Use packaging.version instead.\n",
      "  if distutils.version.LooseVersion(\n",
      "/Users/richardweiss/Documents/.venvs/dice_rl_TU_Vienna/lib/python3.11/site-packages/tf_agents/utils/common.py:91: DeprecationWarning: distutils Version classes are deprecated. Use packaging.version instead.\n",
      "  distutils.version.LooseVersion(tf.__version__)\n"
     ]
    }
   ],
   "source": [
    "from plugins.boyan_chain.analytical_solver import AnalyticalSolverBoyanChain"
   ]
  },
  {
   "cell_type": "code",
   "execution_count": null,
   "metadata": {},
   "outputs": [],
   "source": [
    "def test(N, p, gamma):\n",
    "    kind = \"episodic\" if gamma < 1 else \"continuing\"\n",
    "\n",
    "    analytical_solver = AnalyticalSolverBoyanChain(N=N, p=p, kind=kind)\n",
    "\n",
    "    pv, sdc, info = analytical_solver.solve(gamma, primal_dual=\"dual\") # type: ignore\n",
    "\n",
    "    sd_d = analytical_solver.dD\n",
    "    sd_p = sd_d * sdc\n",
    "\n",
    "    analytical_solver.test(gamma=gamma, sd=sd_p)"
   ]
  },
  {
   "cell_type": "code",
   "execution_count": 4,
   "metadata": {},
   "outputs": [
    {
     "name": "stdout",
     "output_type": "stream",
     "text": [
      "Checking backwards Bellman equations (gamma=0.1):\n",
      "-------------------------------------------------\n",
      "d^pi = (1 - gamma) * d_0^pi + gamma * P^pi_* d^pi\n",
      "-> MSE = 2.2424815307994407e-35\n",
      "d^pi >= 0\n",
      "-> True\n",
      "sum(d^pi) = 1\n",
      "-> sum = 1.0\n",
      "\n",
      "Checking backwards Bellman equations (gamma=0.5):\n",
      "-------------------------------------------------\n",
      "d^pi = (1 - gamma) * d_0^pi + gamma * P^pi_* d^pi\n",
      "-> MSE = 5.792836160852233e-35\n",
      "d^pi >= 0\n",
      "-> True\n",
      "sum(d^pi) = 1\n",
      "-> sum = 0.9999999999999999\n",
      "\n",
      "Checking backwards Bellman equations (gamma=0.9):\n",
      "-------------------------------------------------\n",
      "d^pi = (1 - gamma) * d_0^pi + gamma * P^pi_* d^pi\n",
      "-> MSE = 1.0886886141461801e-36\n",
      "d^pi >= 0\n",
      "-> True\n",
      "sum(d^pi) = 1\n",
      "-> sum = 0.9999999999999992\n",
      "\n"
     ]
    }
   ],
   "source": [
    "for gamma in [0.1, 0.5, 0.9]:\n",
    "    test(N=12, p=0.1, gamma=gamma)"
   ]
  },
  {
   "cell_type": "code",
   "execution_count": 5,
   "metadata": {},
   "outputs": [
    {
     "name": "stdout",
     "output_type": "stream",
     "text": [
      "Checking backwards Bellman equations (gamma=1.0):\n",
      "-------------------------------------------------\n",
      "d^pi = P^pi_* d^pi\n",
      "-> MSE = 1.3020064782163243e-33\n",
      "d^pi >= 0\n",
      "-> True\n",
      "sum(d^pi) = 1\n",
      "-> sum = 0.9999999999999999\n",
      "\n"
     ]
    }
   ],
   "source": [
    "test(N=12, p=0.1, gamma=1.0)"
   ]
  },
  {
   "cell_type": "code",
   "execution_count": null,
   "metadata": {},
   "outputs": [],
   "source": []
  },
  {
   "cell_type": "markdown",
   "metadata": {},
   "source": [
    "# OHE"
   ]
  },
  {
   "cell_type": "code",
   "execution_count": null,
   "metadata": {},
   "outputs": [],
   "source": [
    "import os\n",
    "\n",
    "from dice_rl_TU_Vienna.dataset import load_or_create_dataset_Experience, one_hot_encode_observation, print_env_step\n",
    "from plugins.boyan_chain.environment import get_env"
   ]
  },
  {
   "cell_type": "code",
   "execution_count": null,
   "metadata": {},
   "outputs": [],
   "source": [
    "data_dir = os.path.join(\"data\", \"boyan_chain\")\n",
    "\n",
    "datasets_dir = os.path.join(data_dir, \"datasets\")\n",
    "outputs_dir  = os.path.join(data_dir, \"outputs\")\n",
    "\n",
    "seed = 0\n",
    "num_experience = 100_000\n",
    "p = 0.1\n",
    "N = 12\n",
    "\n",
    "k = \"c\"\n",
    "kind = \"continuing\"\n",
    "\n",
    "hparam_str_dataset = f\"{seed=}_{num_experience=}_{N=}_kind={kind}\"\n",
    "dataset_dir = os.path.join(datasets_dir, hparam_str_dataset)"
   ]
  },
  {
   "cell_type": "code",
   "execution_count": null,
   "metadata": {},
   "outputs": [
    {
     "name": "stdout",
     "output_type": "stream",
     "text": [
      "data/boyan_chain/datasets/seed=0_num_experience=100000_N=12_kind=continuing/dataset-ctr.pkl\n"
     ]
    }
   ],
   "source": [
    "env = get_env(seed=seed, N=N, kind=kind)\n",
    "\n",
    "dataset = load_or_create_dataset_Experience(\n",
    "    dataset_dir=dataset_dir,\n",
    "    env=env, num_experience=num_experience, seed=seed,\n",
    ")"
   ]
  },
  {
   "cell_type": "code",
   "execution_count": null,
   "metadata": {},
   "outputs": [],
   "source": []
  },
  {
   "cell_type": "code",
   "execution_count": null,
   "metadata": {},
   "outputs": [],
   "source": [
    "env_step, _ = dataset.get_episode()"
   ]
  },
  {
   "cell_type": "code",
   "execution_count": null,
   "metadata": {},
   "outputs": [],
   "source": [
    "env_step_OHC_obs = one_hot_encode_observation(env_step, dataset, dataset)"
   ]
  },
  {
   "cell_type": "code",
   "execution_count": null,
   "metadata": {},
   "outputs": [
    {
     "data": {
      "text/html": [
       "<div>\n",
       "<style scoped>\n",
       "    .dataframe tbody tr th:only-of-type {\n",
       "        vertical-align: middle;\n",
       "    }\n",
       "\n",
       "    .dataframe tbody tr th {\n",
       "        vertical-align: top;\n",
       "    }\n",
       "\n",
       "    .dataframe thead th {\n",
       "        text-align: right;\n",
       "    }\n",
       "</style>\n",
       "<table border=\"1\" class=\"dataframe\">\n",
       "  <thead>\n",
       "    <tr style=\"text-align: right;\">\n",
       "      <th></th>\n",
       "      <th>step_type</th>\n",
       "      <th>step_num</th>\n",
       "      <th>observation</th>\n",
       "      <th>action</th>\n",
       "      <th>reward</th>\n",
       "      <th>discount</th>\n",
       "    </tr>\n",
       "  </thead>\n",
       "  <tbody>\n",
       "    <tr>\n",
       "      <th>0</th>\n",
       "      <td>0</td>\n",
       "      <td>0</td>\n",
       "      <td>2</td>\n",
       "      <td>0</td>\n",
       "      <td>-3.0</td>\n",
       "      <td>1.0</td>\n",
       "    </tr>\n",
       "    <tr>\n",
       "      <th>1</th>\n",
       "      <td>1</td>\n",
       "      <td>1</td>\n",
       "      <td>6</td>\n",
       "      <td>1</td>\n",
       "      <td>-3.0</td>\n",
       "      <td>1.0</td>\n",
       "    </tr>\n",
       "    <tr>\n",
       "      <th>2</th>\n",
       "      <td>1</td>\n",
       "      <td>2</td>\n",
       "      <td>4</td>\n",
       "      <td>0</td>\n",
       "      <td>-3.0</td>\n",
       "      <td>1.0</td>\n",
       "    </tr>\n",
       "  </tbody>\n",
       "</table>\n",
       "</div>"
      ],
      "text/plain": [
       "   step_type  step_num  observation  action  reward  discount\n",
       "0          0         0            2       0    -3.0       1.0\n",
       "1          1         1            6       1    -3.0       1.0\n",
       "2          1         2            4       0    -3.0       1.0"
      ]
     },
     "metadata": {},
     "output_type": "display_data"
    },
    {
     "data": {
      "text/html": [
       "<div>\n",
       "<style scoped>\n",
       "    .dataframe tbody tr th:only-of-type {\n",
       "        vertical-align: middle;\n",
       "    }\n",
       "\n",
       "    .dataframe tbody tr th {\n",
       "        vertical-align: top;\n",
       "    }\n",
       "\n",
       "    .dataframe thead th {\n",
       "        text-align: right;\n",
       "    }\n",
       "</style>\n",
       "<table border=\"1\" class=\"dataframe\">\n",
       "  <thead>\n",
       "    <tr style=\"text-align: right;\">\n",
       "      <th></th>\n",
       "      <th>step_type</th>\n",
       "      <th>step_num</th>\n",
       "      <th>observation</th>\n",
       "      <th>action</th>\n",
       "      <th>reward</th>\n",
       "      <th>discount</th>\n",
       "    </tr>\n",
       "  </thead>\n",
       "  <tbody>\n",
       "    <tr>\n",
       "      <th>0</th>\n",
       "      <td>0</td>\n",
       "      <td>0</td>\n",
       "      <td>[0, 0, 1, 0, 0, 0, 0, 0, 0, 0, 0, 0, 0]</td>\n",
       "      <td>0</td>\n",
       "      <td>-3.0</td>\n",
       "      <td>1.0</td>\n",
       "    </tr>\n",
       "    <tr>\n",
       "      <th>1</th>\n",
       "      <td>1</td>\n",
       "      <td>1</td>\n",
       "      <td>[0, 0, 0, 0, 0, 0, 1, 0, 0, 0, 0, 0, 0]</td>\n",
       "      <td>1</td>\n",
       "      <td>-3.0</td>\n",
       "      <td>1.0</td>\n",
       "    </tr>\n",
       "    <tr>\n",
       "      <th>2</th>\n",
       "      <td>1</td>\n",
       "      <td>2</td>\n",
       "      <td>[0, 0, 0, 0, 1, 0, 0, 0, 0, 0, 0, 0, 0]</td>\n",
       "      <td>0</td>\n",
       "      <td>-3.0</td>\n",
       "      <td>1.0</td>\n",
       "    </tr>\n",
       "  </tbody>\n",
       "</table>\n",
       "</div>"
      ],
      "text/plain": [
       "   step_type  step_num                              observation  action  \\\n",
       "0          0         0  [0, 0, 1, 0, 0, 0, 0, 0, 0, 0, 0, 0, 0]       0   \n",
       "1          1         1  [0, 0, 0, 0, 0, 0, 1, 0, 0, 0, 0, 0, 0]       1   \n",
       "2          1         2  [0, 0, 0, 0, 1, 0, 0, 0, 0, 0, 0, 0, 0]       0   \n",
       "\n",
       "   reward  discount  \n",
       "0    -3.0       1.0  \n",
       "1    -3.0       1.0  \n",
       "2    -3.0       1.0  "
      ]
     },
     "metadata": {},
     "output_type": "display_data"
    }
   ],
   "source": [
    "print_env_step(env_step)\n",
    "print_env_step(env_step_OHC_obs)"
   ]
  },
  {
   "cell_type": "code",
   "execution_count": null,
   "metadata": {},
   "outputs": [],
   "source": []
  },
  {
   "cell_type": "markdown",
   "metadata": {},
   "source": [
    "# `aux_recorder`"
   ]
  },
  {
   "cell_type": "code",
   "execution_count": null,
   "metadata": {},
   "outputs": [
    {
     "name": "stdout",
     "output_type": "stream",
     "text": [
      "getting experience\n"
     ]
    },
    {
     "name": "stderr",
     "output_type": "stream",
     "text": [
      "100%|██████████| 100000/100000 [00:13<00:00, 7224.56it/s]\n"
     ]
    },
    {
     "name": "stdout",
     "output_type": "stream",
     "text": [
      "adding experience to dataset\n"
     ]
    },
    {
     "name": "stderr",
     "output_type": "stream",
     "text": [
      "100%|██████████| 100000/100000 [06:09<00:00, 270.71it/s]\n"
     ]
    },
    {
     "name": "stdout",
     "output_type": "stream",
     "text": [
      "getting experience\n"
     ]
    },
    {
     "name": "stderr",
     "output_type": "stream",
     "text": [
      "100%|██████████| 100000/100000 [00:13<00:00, 7151.08it/s]\n"
     ]
    },
    {
     "name": "stdout",
     "output_type": "stream",
     "text": [
      "adding experience to dataset\n"
     ]
    },
    {
     "name": "stderr",
     "output_type": "stream",
     "text": [
      "100%|██████████| 100000/100000 [06:00<00:00, 277.74it/s]\n"
     ]
    },
    {
     "name": "stdout",
     "output_type": "stream",
     "text": [
      "data/boyan_chain/datasets/seed=1_num_experience=100000_N=12_kind=episodic/dataset-ctr.pkl\n",
      "data/boyan_chain/datasets/seed=1_num_experience=100000_N=12_kind=continuing/dataset-ctr.pkl\n",
      "data/boyan_chain/datasets/seed=2_num_experience=100000_N=12_kind=episodic/dataset-ctr.pkl\n",
      "data/boyan_chain/datasets/seed=2_num_experience=100000_N=12_kind=continuing/dataset-ctr.pkl\n",
      "data/boyan_chain/datasets/seed=3_num_experience=100000_N=12_kind=episodic/dataset-ctr.pkl\n",
      "data/boyan_chain/datasets/seed=3_num_experience=100000_N=12_kind=continuing/dataset-ctr.pkl\n"
     ]
    }
   ],
   "source": [
    "from dice_rl_TU_Vienna.runners.aux_recorders import aux_recorder_cos_angle\n",
    "from dice_rl_TU_Vienna.runners.neural_dual_dice_runner import NeuralDualDiceRunner\n",
    "from dice_rl_TU_Vienna.dataset import one_hot_encode_observation\n",
    "\n",
    "from plugins.boyan_chain.continuous.config import *\n",
    "from plugins.boyan_chain.continuous.load import *"
   ]
  },
  {
   "cell_type": "code",
   "execution_count": 48,
   "metadata": {},
   "outputs": [
    {
     "name": "stdout",
     "output_type": "stream",
     "text": [
      "NeuralDualDice\n",
      "gam0.9_batchs64_seed0_hdp(32,)_hdd(32,)_lrp0.001_lrd0.001_regp0.0_regd0.0_fexp1.5\n"
     ]
    },
    {
     "name": "stderr",
     "output_type": "stream",
     "text": [
      "100%|██████████| 100000/100000 [44:10<00:00, 37.73it/s, loss=69.3, pv_s=-1.14, pv_w=-1.02, cos_angle=0.902, pv_error_s=0.325, pv_error_w=0.201, sdc_L2_error=0.0433]    \n"
     ]
    }
   ],
   "source": [
    "neural_dual_dice_runner = NeuralDualDiceRunner(\n",
    "    gamma=0.9,\n",
    "    num_steps=100_000,\n",
    "    batch_size=64,\n",
    "    seed=0,\n",
    "    primal_hidden_dims=(32,),\n",
    "    dual_hidden_dims=(32,),\n",
    "    primal_learning_rate=0.001,\n",
    "    dual_learning_rate=0.001,\n",
    "    regularizer_primal=0.0,\n",
    "    regularizer_dual=0.0,\n",
    "    f_exponent=1.5,\n",
    "    dataset=dataset[0][\"e\"],\n",
    "    dataset_spec=dataset_spec,\n",
    "    target_policy=target_policy,\n",
    "    save_dir=None,\n",
    "    by=\"experience\",\n",
    "    analytical_solver=analytical_solver[\"e\"],\n",
    "    env_step_preprocessing=one_hot_encode_observation,\n",
    "    aux_recorder=aux_recorder_cos_angle,\n",
    "    aux_recorder_pbar=[\"cos_angle\"],\n",
    ")"
   ]
  },
  {
   "cell_type": "code",
   "execution_count": null,
   "metadata": {},
   "outputs": [],
   "source": []
  }
 ],
 "metadata": {
  "kernelspec": {
   "display_name": "dice_rl_TU_Vienna",
   "language": "python",
   "name": "python3"
  },
  "language_info": {
   "codemirror_mode": {
    "name": "ipython",
    "version": 3
   },
   "file_extension": ".py",
   "mimetype": "text/x-python",
   "name": "python",
   "nbconvert_exporter": "python",
   "pygments_lexer": "ipython3",
   "version": "3.11.9"
  }
 },
 "nbformat": 4,
 "nbformat_minor": 2
}
